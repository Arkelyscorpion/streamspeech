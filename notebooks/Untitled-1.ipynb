{
 "cells": [
  {
   "cell_type": "code",
   "execution_count": 1,
   "metadata": {},
   "outputs": [
    {
     "name": "stderr",
     "output_type": "stream",
     "text": [
      "/Users/nelson/miniconda3/envs/imaging/lib/python3.10/site-packages/tqdm/auto.py:21: TqdmWarning: IProgress not found. Please update jupyter and ipywidgets. See https://ipywidgets.readthedocs.io/en/stable/user_install.html\n",
      "  from .autonotebook import tqdm as notebook_tqdm\n"
     ]
    }
   ],
   "source": [
    "import google.generativeai as palm\n"
   ]
  },
  {
   "cell_type": "code",
   "execution_count": 2,
   "metadata": {},
   "outputs": [],
   "source": [
    "import pandas as pd \n",
    "from pathlib import Path\n",
    "import os  "
   ]
  },
  {
   "cell_type": "code",
   "execution_count": 3,
   "metadata": {},
   "outputs": [],
   "source": [
    "palm.configure(api_key=os.environ[\"google_key\"])"
   ]
  },
  {
   "cell_type": "code",
   "execution_count": 4,
   "metadata": {},
   "outputs": [],
   "source": [
    "response = palm.generate_text(prompt=\"What is the best three day itinerary in Chicago for under $100\")"
   ]
  },
  {
   "cell_type": "code",
   "execution_count": 5,
   "metadata": {},
   "outputs": [
    {
     "data": {
      "text/plain": [
       "\"**Day 1:**\\n\\n* **Morning:**\\n    * **Visit the Field Museum**. This world-renowned natural history museum is home to a vast collection of exhibits, including dinosaurs, fossils, and animals from all over the world. Admission is $30 for adults, $20 for children, and free for children under 3.\\n    * **Have lunch at the Rainforest Cafe**. This indoor rainforest restaurant is located right next to the Field Museum. Entrees start at $15.\\n* **Afternoon:**\\n    * **Take a walk through Millennium Park**. This beautiful park is home to the iconic Cloud Gate sculpture, the Crown Fountain, and the Jay Pritzker Pavilion. Admission is free.\\n    * **Visit the Art Institute of Chicago**. This world-renowned art museum is home to a collection of over 300,000 works of art, including paintings, sculptures, and photographs. Admission is $25 for adults, $15 for students and seniors, and free for children under 14.\\n* **Evening:**\\n    * **Have dinner at the Hard Rock Cafe**. This classic American restaurant is located right in the heart of downtown Chicago. Entrees start at $15.\\n    * **Catch a show at the Second City**. This world-renowned comedy club is home to some of the best improv and sketch comedy in the world. Tickets start at $20.\\n\\n**Day 2:**\\n\\n* **Morning:**\\n    * **Visit the Willis Tower**. This 110-story skyscraper is the tallest building in Chicago and offers stunning views of the city. Admission is $25 for adults, $17 for children, and free for children under 5.\\n    * **Have lunch at the Skydeck Café**. This restaurant located on the 103rd floor of the Willis Tower offers stunning views of the city while you eat. Entrees start at $20.\\n* **Afternoon:**\\n    * **Visit the Lincoln Park Zoo**. This free zoo is home to over 1,000 animals from all over the world. Admission is free.\\n    * **Take a walk through Lincoln Park**. This beautiful park is home to a variety of attractions, including the Peggy Notebaert Nature Museum, the Lincoln Park Conservatory, and the Chicago History Museum. Admission to all of these attractions is free.\\n* **Evening:**\\n    * **Have dinner at the Giordano's**. This Chicago-style deep dish pizza restaurant is a must-try for any visitor to the city. Pizzas start at $15.\\n    * **Catch a game at Wrigley Field**. This historic baseball stadium is home to the Chicago Cubs. Tickets start at $20.\\n\\n**Day 3:**\\n\\n* **Morning:**\\n    * **Visit the Museum of Science and Industry**. This world-renowned science museum is home to a variety of exhibits, including a coal mine, a space shuttle, and a giant model of the human heart. Admission is $25 for adults, $19 for children, and free for children under 3.\\n    * **Have lunch at the Café Brauer**. This German restaurant is located inside the Museum of Science and Industry. Entrees start at $15.\\n* **Afternoon:**\\n    * **Visit the Navy Pier**. This waterfront amusement park is home to a variety of rides, attractions, and restaurants. Admission is free.\\n    * **Take a walk along the Lakefront Trail**. This scenic trail runs along the shores of Lake Michigan and offers stunning views of the city.\\n* **Evening:**\\n    * **Have dinner at the Lou Malnati's**. This Chicago-style deep dish pizza restaurant is another must-try for any visitor to the city. Pizzas start at $15.\\n    * **Catch a show at the Chicago Theatre**. This historic theater is home to some of the best Broadway shows in the world. Tickets start at $20.\\n\\n**Total cost for 3 days:**\\n\\n* **Admission to attractions:** $110\\n* **Food:** $60\\n* **Transportation:** $20\\n* **Other expenses:** $10\\n\\n**Total cost:** $190\""
      ]
     },
     "execution_count": 5,
     "metadata": {},
     "output_type": "execute_result"
    }
   ],
   "source": [
    "response.result"
   ]
  },
  {
   "cell_type": "code",
   "execution_count": 6,
   "metadata": {},
   "outputs": [
    {
     "ename": "KeyboardInterrupt",
     "evalue": "",
     "output_type": "error",
     "traceback": [
      "\u001b[0;31m---------------------------------------------------------------------------\u001b[0m",
      "\u001b[0;31mKeyboardInterrupt\u001b[0m                         Traceback (most recent call last)",
      "\u001b[1;32mUntitled-1.ipynb Cell 6\u001b[0m line \u001b[0;36m4\n\u001b[1;32m      <a href='vscode-notebook-cell:Untitled-1.ipynb?jupyter-notebook#W4sdW50aXRsZWQ%3D?line=1'>2</a>\u001b[0m engine \u001b[39m=\u001b[39m tts\u001b[39m.\u001b[39minit()\n\u001b[1;32m      <a href='vscode-notebook-cell:Untitled-1.ipynb?jupyter-notebook#W4sdW50aXRsZWQ%3D?line=2'>3</a>\u001b[0m engine\u001b[39m.\u001b[39msay(response\u001b[39m.\u001b[39mresult)\n\u001b[0;32m----> <a href='vscode-notebook-cell:Untitled-1.ipynb?jupyter-notebook#W4sdW50aXRsZWQ%3D?line=3'>4</a>\u001b[0m engine\u001b[39m.\u001b[39;49mrunAndWait()\n",
      "File \u001b[0;32m~/miniconda3/envs/imaging/lib/python3.10/site-packages/pyttsx3/engine.py:186\u001b[0m, in \u001b[0;36mEngine.runAndWait\u001b[0;34m(self)\u001b[0m\n\u001b[1;32m    184\u001b[0m \u001b[39mself\u001b[39m\u001b[39m.\u001b[39m_inLoop \u001b[39m=\u001b[39m \u001b[39mTrue\u001b[39;00m\n\u001b[1;32m    185\u001b[0m \u001b[39mself\u001b[39m\u001b[39m.\u001b[39m_driverLoop \u001b[39m=\u001b[39m \u001b[39mTrue\u001b[39;00m\n\u001b[0;32m--> 186\u001b[0m \u001b[39mself\u001b[39;49m\u001b[39m.\u001b[39;49mproxy\u001b[39m.\u001b[39;49mrunAndWait()\n",
      "File \u001b[0;32m~/miniconda3/envs/imaging/lib/python3.10/site-packages/pyttsx3/driver.py:196\u001b[0m, in \u001b[0;36mDriverProxy.runAndWait\u001b[0;34m(self)\u001b[0m\n\u001b[1;32m    191\u001b[0m \u001b[39m\u001b[39m\u001b[39m\"\"\"\u001b[39;00m\n\u001b[1;32m    192\u001b[0m \u001b[39mCalled by the engine to start an event loop, process all commands in\u001b[39;00m\n\u001b[1;32m    193\u001b[0m \u001b[39mthe queue at the start of the loop, and then exit the loop.\u001b[39;00m\n\u001b[1;32m    194\u001b[0m \u001b[39m\"\"\"\u001b[39;00m\n\u001b[1;32m    195\u001b[0m \u001b[39mself\u001b[39m\u001b[39m.\u001b[39m_push(\u001b[39mself\u001b[39m\u001b[39m.\u001b[39m_engine\u001b[39m.\u001b[39mendLoop, \u001b[39mtuple\u001b[39m())\n\u001b[0;32m--> 196\u001b[0m \u001b[39mself\u001b[39;49m\u001b[39m.\u001b[39;49m_driver\u001b[39m.\u001b[39;49mstartLoop()\n",
      "File \u001b[0;32m~/miniconda3/envs/imaging/lib/python3.10/site-packages/pyttsx3/drivers/nsss.py:74\u001b[0m, in \u001b[0;36mNSSpeechDriver.startLoop\u001b[0;34m(self)\u001b[0m\n\u001b[1;32m     72\u001b[0m soon \u001b[39m=\u001b[39m NSDate\u001b[39m.\u001b[39mdateWithTimeIntervalSinceNow_(\u001b[39m0\u001b[39m)  \u001b[39m# maxTimeout in runConsoleEventLoop\u001b[39;00m\n\u001b[1;32m     73\u001b[0m \u001b[39mif\u001b[39;00m nextfire \u001b[39mis\u001b[39;00m \u001b[39mnot\u001b[39;00m \u001b[39mNone\u001b[39;00m:\n\u001b[0;32m---> 74\u001b[0m     nextfire \u001b[39m=\u001b[39m soon\u001b[39m.\u001b[39;49mearlierDate_(nextfire)\n\u001b[1;32m     75\u001b[0m \u001b[39mif\u001b[39;00m \u001b[39mnot\u001b[39;00m runLoop\u001b[39m.\u001b[39mrunMode_beforeDate_(NSDefaultRunLoopMode, nextfire):\n\u001b[1;32m     76\u001b[0m     stopper\u001b[39m.\u001b[39mstop()\n",
      "\u001b[0;31mKeyboardInterrupt\u001b[0m: "
     ]
    }
   ],
   "source": [
    "import pyttsx3 as tts \n",
    "engine = tts.init()\n",
    "engine.say(response.result)\n"
   ]
  },
  {
   "cell_type": "code",
   "execution_count": 7,
   "metadata": {},
   "outputs": [],
   "source": [
    "engine.stop()"
   ]
  },
  {
   "cell_type": "code",
   "execution_count": null,
   "metadata": {},
   "outputs": [],
   "source": [
    "# What do we need?\n",
    "# Some form of UI: User types in something and gets an answer via voice\n",
    "# pyshiny - easy syntax \n",
    "# button to stop the engine when prompted \n",
    "# or just focus on "
   ]
  }
 ],
 "metadata": {
  "kernelspec": {
   "display_name": "imaging",
   "language": "python",
   "name": "imaging"
  },
  "language_info": {
   "codemirror_mode": {
    "name": "ipython",
    "version": 3
   },
   "file_extension": ".py",
   "mimetype": "text/x-python",
   "name": "python",
   "nbconvert_exporter": "python",
   "pygments_lexer": "ipython3",
   "version": "3.10.13"
  }
 },
 "nbformat": 4,
 "nbformat_minor": 2
}
